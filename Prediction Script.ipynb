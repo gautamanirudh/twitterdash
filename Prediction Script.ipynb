{
 "cells": [
  {
   "cell_type": "code",
   "execution_count": 1,
   "metadata": {},
   "outputs": [],
   "source": [
    "import pickle\n",
    "import re\n",
    "import pandas as pd\n",
    "import nltk\n",
    "import numpy as np\n",
    "from nltk.corpus import stopwords\n",
    "stop = stopwords.words(\"english\")\n",
    "from nltk.stem.porter import PorterStemmer\n",
    "english_stemmer=nltk.stem.SnowballStemmer('english')\n",
    "\n"
   ]
  },
  {
   "cell_type": "code",
   "execution_count": null,
   "metadata": {},
   "outputs": [],
   "source": []
  },
  {
   "cell_type": "code",
   "execution_count": 3,
   "metadata": {},
   "outputs": [],
   "source": [
    "## taking the raw dataframe here"
   ]
  },
  {
   "cell_type": "code",
   "execution_count": 4,
   "metadata": {},
   "outputs": [],
   "source": [
    "df = pd.read_csv(\"./shahidkapoor.csv\")"
   ]
  },
  {
   "cell_type": "code",
   "execution_count": 5,
   "metadata": {},
   "outputs": [
    {
     "data": {
      "text/html": [
       "<div>\n",
       "<style scoped>\n",
       "    .dataframe tbody tr th:only-of-type {\n",
       "        vertical-align: middle;\n",
       "    }\n",
       "\n",
       "    .dataframe tbody tr th {\n",
       "        vertical-align: top;\n",
       "    }\n",
       "\n",
       "    .dataframe thead th {\n",
       "        text-align: right;\n",
       "    }\n",
       "</style>\n",
       "<table border=\"1\" class=\"dataframe\">\n",
       "  <thead>\n",
       "    <tr style=\"text-align: right;\">\n",
       "      <th></th>\n",
       "      <th>Unnamed: 0</th>\n",
       "      <th>id</th>\n",
       "      <th>conversation_id</th>\n",
       "      <th>created_at</th>\n",
       "      <th>date</th>\n",
       "      <th>timezone</th>\n",
       "      <th>place</th>\n",
       "      <th>tweet</th>\n",
       "      <th>language</th>\n",
       "      <th>hashtags</th>\n",
       "      <th>...</th>\n",
       "      <th>geo</th>\n",
       "      <th>source</th>\n",
       "      <th>user_rt_id</th>\n",
       "      <th>user_rt</th>\n",
       "      <th>retweet_id</th>\n",
       "      <th>reply_to</th>\n",
       "      <th>retweet_date</th>\n",
       "      <th>translate</th>\n",
       "      <th>trans_src</th>\n",
       "      <th>trans_dest</th>\n",
       "    </tr>\n",
       "  </thead>\n",
       "  <tbody>\n",
       "    <tr>\n",
       "      <th>0</th>\n",
       "      <td>0</td>\n",
       "      <td>1.338690e+18</td>\n",
       "      <td>1.338690e+18</td>\n",
       "      <td>1.608000e+12</td>\n",
       "      <td>12/15/2020 9:06</td>\n",
       "      <td>530</td>\n",
       "      <td>NaN</td>\n",
       "      <td>As we all fight through this pandemic.  Let’s ...</td>\n",
       "      <td>en</td>\n",
       "      <td>['srivenkateswaracreations']</td>\n",
       "      <td>...</td>\n",
       "      <td>NaN</td>\n",
       "      <td>NaN</td>\n",
       "      <td>NaN</td>\n",
       "      <td>NaN</td>\n",
       "      <td>NaN</td>\n",
       "      <td>[]</td>\n",
       "      <td>NaN</td>\n",
       "      <td>NaN</td>\n",
       "      <td>NaN</td>\n",
       "      <td>NaN</td>\n",
       "    </tr>\n",
       "    <tr>\n",
       "      <th>1</th>\n",
       "      <td>1</td>\n",
       "      <td>1.338690e+18</td>\n",
       "      <td>1.338690e+18</td>\n",
       "      <td>1.608000e+12</td>\n",
       "      <td>12/15/2020 9:01</td>\n",
       "      <td>530</td>\n",
       "      <td>NaN</td>\n",
       "      <td>Telling stories that touch hearts and make a d...</td>\n",
       "      <td>en</td>\n",
       "      <td>['jersey']</td>\n",
       "      <td>...</td>\n",
       "      <td>NaN</td>\n",
       "      <td>NaN</td>\n",
       "      <td>NaN</td>\n",
       "      <td>NaN</td>\n",
       "      <td>NaN</td>\n",
       "      <td>[]</td>\n",
       "      <td>NaN</td>\n",
       "      <td>NaN</td>\n",
       "      <td>NaN</td>\n",
       "      <td>NaN</td>\n",
       "    </tr>\n",
       "    <tr>\n",
       "      <th>2</th>\n",
       "      <td>2</td>\n",
       "      <td>1.338690e+18</td>\n",
       "      <td>1.338690e+18</td>\n",
       "      <td>1.608000e+12</td>\n",
       "      <td>12/15/2020 9:01</td>\n",
       "      <td>530</td>\n",
       "      <td>NaN</td>\n",
       "      <td>It’s a film wrap on #jersey.... 47 days of the...</td>\n",
       "      <td>en</td>\n",
       "      <td>['jersey']</td>\n",
       "      <td>...</td>\n",
       "      <td>NaN</td>\n",
       "      <td>NaN</td>\n",
       "      <td>NaN</td>\n",
       "      <td>NaN</td>\n",
       "      <td>NaN</td>\n",
       "      <td>[]</td>\n",
       "      <td>NaN</td>\n",
       "      <td>NaN</td>\n",
       "      <td>NaN</td>\n",
       "      <td>NaN</td>\n",
       "    </tr>\n",
       "    <tr>\n",
       "      <th>3</th>\n",
       "      <td>3</td>\n",
       "      <td>1.327600e+18</td>\n",
       "      <td>1.327600e+18</td>\n",
       "      <td>1.605360e+12</td>\n",
       "      <td>11/14/2020 18:31</td>\n",
       "      <td>530</td>\n",
       "      <td>NaN</td>\n",
       "      <td>Wishing you all a happy and healthy Diwali. Le...</td>\n",
       "      <td>en</td>\n",
       "      <td>[]</td>\n",
       "      <td>...</td>\n",
       "      <td>NaN</td>\n",
       "      <td>NaN</td>\n",
       "      <td>NaN</td>\n",
       "      <td>NaN</td>\n",
       "      <td>NaN</td>\n",
       "      <td>[]</td>\n",
       "      <td>NaN</td>\n",
       "      <td>NaN</td>\n",
       "      <td>NaN</td>\n",
       "      <td>NaN</td>\n",
       "    </tr>\n",
       "    <tr>\n",
       "      <th>4</th>\n",
       "      <td>4</td>\n",
       "      <td>1.320340e+18</td>\n",
       "      <td>1.320340e+18</td>\n",
       "      <td>1.603630e+12</td>\n",
       "      <td>10/25/2020 18:02</td>\n",
       "      <td>530</td>\n",
       "      <td>NaN</td>\n",
       "      <td>Wishing everyone a very happy dussehra . Love ...</td>\n",
       "      <td>en</td>\n",
       "      <td>[]</td>\n",
       "      <td>...</td>\n",
       "      <td>NaN</td>\n",
       "      <td>NaN</td>\n",
       "      <td>NaN</td>\n",
       "      <td>NaN</td>\n",
       "      <td>NaN</td>\n",
       "      <td>[]</td>\n",
       "      <td>NaN</td>\n",
       "      <td>NaN</td>\n",
       "      <td>NaN</td>\n",
       "      <td>NaN</td>\n",
       "    </tr>\n",
       "  </tbody>\n",
       "</table>\n",
       "<p>5 rows × 39 columns</p>\n",
       "</div>"
      ],
      "text/plain": [
       "   Unnamed: 0            id  conversation_id    created_at              date  \\\n",
       "0           0  1.338690e+18     1.338690e+18  1.608000e+12   12/15/2020 9:06   \n",
       "1           1  1.338690e+18     1.338690e+18  1.608000e+12   12/15/2020 9:01   \n",
       "2           2  1.338690e+18     1.338690e+18  1.608000e+12   12/15/2020 9:01   \n",
       "3           3  1.327600e+18     1.327600e+18  1.605360e+12  11/14/2020 18:31   \n",
       "4           4  1.320340e+18     1.320340e+18  1.603630e+12  10/25/2020 18:02   \n",
       "\n",
       "   timezone  place                                              tweet  \\\n",
       "0       530    NaN  As we all fight through this pandemic.  Let’s ...   \n",
       "1       530    NaN  Telling stories that touch hearts and make a d...   \n",
       "2       530    NaN  It’s a film wrap on #jersey.... 47 days of the...   \n",
       "3       530    NaN  Wishing you all a happy and healthy Diwali. Le...   \n",
       "4       530    NaN  Wishing everyone a very happy dussehra . Love ...   \n",
       "\n",
       "  language                      hashtags  ... geo  source  user_rt_id user_rt  \\\n",
       "0       en  ['srivenkateswaracreations']  ... NaN     NaN         NaN     NaN   \n",
       "1       en                    ['jersey']  ... NaN     NaN         NaN     NaN   \n",
       "2       en                    ['jersey']  ... NaN     NaN         NaN     NaN   \n",
       "3       en                            []  ... NaN     NaN         NaN     NaN   \n",
       "4       en                            []  ... NaN     NaN         NaN     NaN   \n",
       "\n",
       "  retweet_id  reply_to  retweet_date translate trans_src trans_dest  \n",
       "0        NaN        []           NaN       NaN       NaN        NaN  \n",
       "1        NaN        []           NaN       NaN       NaN        NaN  \n",
       "2        NaN        []           NaN       NaN       NaN        NaN  \n",
       "3        NaN        []           NaN       NaN       NaN        NaN  \n",
       "4        NaN        []           NaN       NaN       NaN        NaN  \n",
       "\n",
       "[5 rows x 39 columns]"
      ]
     },
     "execution_count": 5,
     "metadata": {},
     "output_type": "execute_result"
    }
   ],
   "source": [
    "df.head()"
   ]
  },
  {
   "cell_type": "code",
   "execution_count": 6,
   "metadata": {},
   "outputs": [],
   "source": [
    "df = df['tweet']"
   ]
  },
  {
   "cell_type": "code",
   "execution_count": 9,
   "metadata": {},
   "outputs": [],
   "source": [
    "df = pd.DataFrame(df)"
   ]
  },
  {
   "cell_type": "code",
   "execution_count": 15,
   "metadata": {},
   "outputs": [],
   "source": [
    "def cleaning(tweet , remove_stopwords = True):\n",
    "    text = re.sub(\"[^a-zA-Z]\",\" \", tweet)\n",
    "    words =text.lower().split()\n",
    "    \n",
    "    if remove_stopwords:\n",
    "        stops = set(stopwords.words(\"english\"))\n",
    "        words = [w for w in words if not w in stops]\n",
    "\n",
    "    b=[]\n",
    "    stemmer = english_stemmer \n",
    "    for word in words:\n",
    "        b.append(stemmer.stem(word))\n",
    "\n",
    "    \n",
    "    return(b)"
   ]
  },
  {
   "cell_type": "code",
   "execution_count": 16,
   "metadata": {},
   "outputs": [],
   "source": [
    "clean_Text = []\n",
    "for review in df['tweet']:\n",
    "    clean_Text.append( \" \".join(cleaning(review)))"
   ]
  },
  {
   "cell_type": "code",
   "execution_count": 17,
   "metadata": {},
   "outputs": [],
   "source": [
    "vectorizer = pickle.load(open(\"final_vectorizer.pkl\" , \"rb\"))"
   ]
  },
  {
   "cell_type": "code",
   "execution_count": 18,
   "metadata": {},
   "outputs": [],
   "source": [
    "kmeans = pickle.load(open(\"final_kmeans.pkl\" , \"rb\"))"
   ]
  },
  {
   "cell_type": "code",
   "execution_count": 19,
   "metadata": {},
   "outputs": [],
   "source": [
    "transformed_text = vectorizer.transform(clean_Text)"
   ]
  },
  {
   "cell_type": "code",
   "execution_count": 20,
   "metadata": {},
   "outputs": [],
   "source": [
    "clusters = kmeans.predict(transformed_text)"
   ]
  },
  {
   "cell_type": "code",
   "execution_count": 21,
   "metadata": {},
   "outputs": [],
   "source": [
    "unique, frequency = np.unique(clusters,return_counts = True\n",
    "                             )"
   ]
  },
  {
   "cell_type": "code",
   "execution_count": 22,
   "metadata": {},
   "outputs": [
    {
     "data": {
      "text/plain": [
       "array([0, 1, 2])"
      ]
     },
     "execution_count": 22,
     "metadata": {},
     "output_type": "execute_result"
    }
   ],
   "source": [
    "unique"
   ]
  },
  {
   "cell_type": "code",
   "execution_count": 23,
   "metadata": {},
   "outputs": [
    {
     "data": {
      "text/plain": [
       "array([5593,  149,   64], dtype=int64)"
      ]
     },
     "execution_count": 23,
     "metadata": {},
     "output_type": "execute_result"
    }
   ],
   "source": [
    "frequency"
   ]
  },
  {
   "cell_type": "code",
   "execution_count": 24,
   "metadata": {},
   "outputs": [],
   "source": [
    "output_dic = {}"
   ]
  },
  {
   "cell_type": "code",
   "execution_count": 27,
   "metadata": {},
   "outputs": [],
   "source": [
    "output_dic['positive'] = frequency[1]\n",
    "output_dic['neutral'] = frequency[0]\n",
    "output_dic['negative'] = frequency[2]"
   ]
  },
  {
   "cell_type": "code",
   "execution_count": 28,
   "metadata": {},
   "outputs": [
    {
     "data": {
      "text/plain": [
       "{'positive': 149, 'neutral': 5593, 'negative': 64}"
      ]
     },
     "execution_count": 28,
     "metadata": {},
     "output_type": "execute_result"
    }
   ],
   "source": [
    "output_dic"
   ]
  },
  {
   "cell_type": "code",
   "execution_count": null,
   "metadata": {},
   "outputs": [],
   "source": []
  }
 ],
 "metadata": {
  "kernelspec": {
   "display_name": "Python 3",
   "language": "python",
   "name": "python3"
  },
  "language_info": {
   "codemirror_mode": {
    "name": "ipython",
    "version": 3
   },
   "file_extension": ".py",
   "mimetype": "text/x-python",
   "name": "python",
   "nbconvert_exporter": "python",
   "pygments_lexer": "ipython3",
   "version": "3.8.3"
  }
 },
 "nbformat": 4,
 "nbformat_minor": 4
}
